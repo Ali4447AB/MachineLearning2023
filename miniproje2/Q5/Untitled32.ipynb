{
  "nbformat": 4,
  "nbformat_minor": 0,
  "metadata": {
    "colab": {
      "provenance": []
    },
    "kernelspec": {
      "name": "python3",
      "display_name": "Python 3"
    },
    "language_info": {
      "name": "python"
    }
  },
  "cells": [
    {
      "cell_type": "code",
      "execution_count": 1,
      "metadata": {
        "id": "LKgEGd_d4lTb"
      },
      "outputs": [],
      "source": [
        "from sklearn.neural_network import MLPClassifier, MLPRegressor\n",
        "\n",
        "from sklearn.datasets import load_iris\n",
        "\n",
        "from imblearn.under_sampling import RandomUnderSampler\n",
        "\n",
        "from sklearn.model_selection import train_test_split\n",
        "\n",
        "from sklearn.preprocessing import StandardScaler\n",
        "\n",
        "import numpy as np"
      ]
    },
    {
      "cell_type": "markdown",
      "metadata": {
        "jp-MarkdownHeadingCollapsed": true,
        "tags": [],
        "id": "EJEAp-1BDJ2I"
      },
      "source": [
        "## `Data()`"
      ]
    },
    {
      "cell_type": "code",
      "execution_count": 2,
      "metadata": {
        "id": "f3fb7adb-ca34-42ea-86a1-204387d87cc5",
        "outputId": "3fe4afaa-8c35-4b25-fce9-83831f42a313",
        "colab": {
          "base_uri": "https://localhost:8080/"
        }
      },
      "outputs": [
        {
          "output_type": "stream",
          "name": "stdout",
          "text": [
            "(150, 4) (150,)\n"
          ]
        }
      ],
      "source": [
        "X, y = load_iris(return_X_y=True)\n",
        "print(X.shape, y.shape)"
      ]
    },
    {
      "cell_type": "code",
      "source": [
        "# Count the number of samples in each class\n",
        "unique, counts = np.unique(y, return_counts=True)\n",
        "print(\"Class counts before balancing:\", dict(zip(unique, counts)))"
      ],
      "metadata": {
        "colab": {
          "base_uri": "https://localhost:8080/"
        },
        "id": "jVlwoTLYCjPm",
        "outputId": "cb566bc5-b983-4154-dc7a-36a61dab88d7"
      },
      "execution_count": 4,
      "outputs": [
        {
          "output_type": "stream",
          "name": "stdout",
          "text": [
            "Class counts before balancing: {0: 50, 1: 50, 2: 50}\n"
          ]
        }
      ]
    },
    {
      "cell_type": "markdown",
      "metadata": {
        "jp-MarkdownHeadingCollapsed": true,
        "tags": [],
        "id": "814e6fe8-67bd-4ef7-825e-c13ce6b18a49"
      },
      "source": [
        "## `MLPClassifier()`"
      ]
    },
    {
      "cell_type": "code",
      "execution_count": 5,
      "metadata": {
        "id": "04bf0494-e309-47a2-8613-40c12c797885"
      },
      "outputs": [],
      "source": [
        "x_train, x_test, y_train, y_test = train_test_split(X, y, test_size=0.2)"
      ]
    },
    {
      "cell_type": "code",
      "source": [
        "model = MLPClassifier(hidden_layer_sizes=(10, 5, 2), random_state=12, verbose = True)\n",
        "model.fit(x_train, y_train)\n",
        "model.score(x_test, y_test)"
      ],
      "metadata": {
        "colab": {
          "base_uri": "https://localhost:8080/"
        },
        "id": "R8kYVkTJCP07",
        "outputId": "d3d4fe6d-7bd1-433e-8702-ee049ffed51c"
      },
      "execution_count": 6,
      "outputs": [
        {
          "output_type": "stream",
          "name": "stdout",
          "text": [
            "Iteration 1, loss = 2.11392028\n",
            "Iteration 2, loss = 2.08597663\n",
            "Iteration 3, loss = 2.05831469\n",
            "Iteration 4, loss = 2.03093451\n",
            "Iteration 5, loss = 2.00380994\n",
            "Iteration 6, loss = 1.97697094\n",
            "Iteration 7, loss = 1.95043394\n",
            "Iteration 8, loss = 1.92418540\n",
            "Iteration 9, loss = 1.89823755\n",
            "Iteration 10, loss = 1.87260247\n",
            "Iteration 11, loss = 1.84743294\n",
            "Iteration 12, loss = 1.82260968\n",
            "Iteration 13, loss = 1.79824581\n",
            "Iteration 14, loss = 1.77481193\n",
            "Iteration 15, loss = 1.75269897\n",
            "Iteration 16, loss = 1.73116663\n",
            "Iteration 17, loss = 1.71052460\n",
            "Iteration 18, loss = 1.69057311\n",
            "Iteration 19, loss = 1.67124584\n",
            "Iteration 20, loss = 1.65280841\n",
            "Iteration 21, loss = 1.63496827\n",
            "Iteration 22, loss = 1.61748587\n",
            "Iteration 23, loss = 1.60050050\n",
            "Iteration 24, loss = 1.58386658\n",
            "Iteration 25, loss = 1.56762025\n",
            "Iteration 26, loss = 1.55174526\n",
            "Iteration 27, loss = 1.53621885\n",
            "Iteration 28, loss = 1.52104806\n",
            "Iteration 29, loss = 1.50618429\n",
            "Iteration 30, loss = 1.49162955\n",
            "Iteration 31, loss = 1.47739255\n",
            "Iteration 32, loss = 1.46347607\n",
            "Iteration 33, loss = 1.44987884\n",
            "Iteration 34, loss = 1.43660137\n",
            "Iteration 35, loss = 1.42407275\n",
            "Iteration 36, loss = 1.41482586\n",
            "Iteration 37, loss = 1.40948656\n",
            "Iteration 38, loss = 1.40549947\n",
            "Iteration 39, loss = 1.40192690\n",
            "Iteration 40, loss = 1.39862494\n",
            "Iteration 41, loss = 1.39556713\n",
            "Iteration 42, loss = 1.39273178\n",
            "Iteration 43, loss = 1.39009668\n",
            "Iteration 44, loss = 1.38763600\n",
            "Iteration 45, loss = 1.38534374\n",
            "Iteration 46, loss = 1.38320196\n",
            "Iteration 47, loss = 1.38119573\n",
            "Iteration 48, loss = 1.37933615\n",
            "Iteration 49, loss = 1.37761441\n",
            "Iteration 50, loss = 1.37599254\n",
            "Iteration 51, loss = 1.37448396\n",
            "Iteration 52, loss = 1.37307981\n",
            "Iteration 53, loss = 1.37174997\n",
            "Iteration 54, loss = 1.37048816\n",
            "Iteration 55, loss = 1.36931771\n",
            "Iteration 56, loss = 1.36826984\n",
            "Iteration 57, loss = 1.36737423\n",
            "Iteration 58, loss = 1.36664298\n",
            "Iteration 59, loss = 1.36608425\n",
            "Iteration 60, loss = 1.36564781\n",
            "Iteration 61, loss = 1.36524208\n",
            "Iteration 62, loss = 1.36482140\n",
            "Iteration 63, loss = 1.36438137\n",
            "Iteration 64, loss = 1.36393868\n",
            "Iteration 65, loss = 1.36347907\n",
            "Iteration 66, loss = 1.36296955\n",
            "Iteration 67, loss = 1.36240317\n",
            "Iteration 68, loss = 1.36178013\n",
            "Iteration 69, loss = 1.36110897\n",
            "Iteration 70, loss = 1.36039436\n",
            "Iteration 71, loss = 1.35965313\n",
            "Iteration 72, loss = 1.35890271\n",
            "Iteration 73, loss = 1.35816874\n",
            "Iteration 74, loss = 1.35742538\n",
            "Iteration 75, loss = 1.35667822\n",
            "Iteration 76, loss = 1.35593542\n",
            "Iteration 77, loss = 1.35518843\n",
            "Iteration 78, loss = 1.35444327\n",
            "Iteration 79, loss = 1.35373645\n",
            "Iteration 80, loss = 1.35305165\n",
            "Iteration 81, loss = 1.35238804\n",
            "Iteration 82, loss = 1.35175413\n",
            "Iteration 83, loss = 1.35113282\n",
            "Iteration 84, loss = 1.35053203\n",
            "Iteration 85, loss = 1.34994074\n",
            "Iteration 86, loss = 1.34934490\n",
            "Iteration 87, loss = 1.34874852\n",
            "Iteration 88, loss = 1.34814596\n",
            "Iteration 89, loss = 1.34754049\n",
            "Iteration 90, loss = 1.34692833\n",
            "Iteration 91, loss = 1.34630990\n",
            "Iteration 92, loss = 1.34568592\n",
            "Iteration 93, loss = 1.34505710\n",
            "Iteration 94, loss = 1.34442438\n",
            "Iteration 95, loss = 1.34378871\n",
            "Iteration 96, loss = 1.34315264\n",
            "Iteration 97, loss = 1.34251626\n",
            "Iteration 98, loss = 1.34188000\n",
            "Iteration 99, loss = 1.34124826\n",
            "Iteration 100, loss = 1.34061761\n",
            "Iteration 101, loss = 1.33998769\n",
            "Iteration 102, loss = 1.33936082\n",
            "Iteration 103, loss = 1.33873672\n",
            "Iteration 104, loss = 1.33811727\n",
            "Iteration 105, loss = 1.33750248\n",
            "Iteration 106, loss = 1.33688817\n",
            "Iteration 107, loss = 1.33627492\n",
            "Iteration 108, loss = 1.33566171\n",
            "Iteration 109, loss = 1.33504746\n",
            "Iteration 110, loss = 1.33443215\n",
            "Iteration 111, loss = 1.33381579\n",
            "Iteration 112, loss = 1.33319839\n",
            "Iteration 113, loss = 1.33257995\n",
            "Iteration 114, loss = 1.33196050\n",
            "Iteration 115, loss = 1.33134163\n",
            "Iteration 116, loss = 1.33072281\n",
            "Iteration 117, loss = 1.33010373\n",
            "Iteration 118, loss = 1.32948438\n",
            "Iteration 119, loss = 1.32886587\n",
            "Iteration 120, loss = 1.32825091\n",
            "Iteration 121, loss = 1.32763593\n",
            "Iteration 122, loss = 1.32702097\n",
            "Iteration 123, loss = 1.32640602\n",
            "Iteration 124, loss = 1.32579110\n",
            "Iteration 125, loss = 1.32517623\n",
            "Iteration 126, loss = 1.32456146\n",
            "Iteration 127, loss = 1.32394756\n",
            "Iteration 128, loss = 1.32333359\n",
            "Iteration 129, loss = 1.32271960\n",
            "Iteration 130, loss = 1.32210564\n",
            "Iteration 131, loss = 1.32149176\n",
            "Iteration 132, loss = 1.32087800\n",
            "Iteration 133, loss = 1.32026439\n",
            "Iteration 134, loss = 1.31965096\n",
            "Iteration 135, loss = 1.31903774\n",
            "Iteration 136, loss = 1.31842488\n",
            "Iteration 137, loss = 1.31781237\n",
            "Iteration 138, loss = 1.31720014\n",
            "Iteration 139, loss = 1.31658817\n",
            "Iteration 140, loss = 1.31597647\n",
            "Iteration 141, loss = 1.31536505\n",
            "Iteration 142, loss = 1.31475388\n",
            "Iteration 143, loss = 1.31414298\n",
            "Iteration 144, loss = 1.31353233\n",
            "Iteration 145, loss = 1.31292192\n",
            "Iteration 146, loss = 1.31231174\n",
            "Iteration 147, loss = 1.31170177\n",
            "Iteration 148, loss = 1.31109201\n",
            "Iteration 149, loss = 1.31048244\n",
            "Iteration 150, loss = 1.30987305\n",
            "Iteration 151, loss = 1.30926381\n",
            "Iteration 152, loss = 1.30865472\n",
            "Iteration 153, loss = 1.30804577\n",
            "Iteration 154, loss = 1.30743693\n",
            "Iteration 155, loss = 1.30682819\n",
            "Iteration 156, loss = 1.30621987\n",
            "Iteration 157, loss = 1.30561252\n",
            "Iteration 158, loss = 1.30500537\n",
            "Iteration 159, loss = 1.30439842\n",
            "Iteration 160, loss = 1.30379169\n",
            "Iteration 161, loss = 1.30318552\n",
            "Iteration 162, loss = 1.30258002\n",
            "Iteration 163, loss = 1.30197472\n",
            "Iteration 164, loss = 1.30136961\n",
            "Iteration 165, loss = 1.30076474\n",
            "Iteration 166, loss = 1.30016016\n",
            "Iteration 167, loss = 1.29955588\n",
            "Iteration 168, loss = 1.29895192\n",
            "Iteration 169, loss = 1.29834832\n",
            "Iteration 170, loss = 1.29774507\n",
            "Iteration 171, loss = 1.29714220\n",
            "Iteration 172, loss = 1.29653969\n",
            "Iteration 173, loss = 1.29593755\n",
            "Iteration 174, loss = 1.29533578\n",
            "Iteration 175, loss = 1.29473437\n",
            "Iteration 176, loss = 1.29413331\n",
            "Iteration 177, loss = 1.29353259\n",
            "Iteration 178, loss = 1.29293219\n",
            "Iteration 179, loss = 1.29233210\n",
            "Iteration 180, loss = 1.29173230\n",
            "Iteration 181, loss = 1.29113277\n",
            "Iteration 182, loss = 1.29053350\n",
            "Iteration 183, loss = 1.28993446\n",
            "Iteration 184, loss = 1.28933563\n",
            "Iteration 185, loss = 1.28873700\n",
            "Iteration 186, loss = 1.28813855\n",
            "Iteration 187, loss = 1.28754025\n",
            "Iteration 188, loss = 1.28694209\n",
            "Iteration 189, loss = 1.28634404\n",
            "Iteration 190, loss = 1.28574610\n",
            "Iteration 191, loss = 1.28514824\n",
            "Iteration 192, loss = 1.28455045\n",
            "Iteration 193, loss = 1.28395272\n",
            "Iteration 194, loss = 1.28335501\n",
            "Iteration 195, loss = 1.28275734\n",
            "Iteration 196, loss = 1.28215971\n",
            "Iteration 197, loss = 1.28156393\n",
            "Iteration 198, loss = 1.28096832\n",
            "Iteration 199, loss = 1.28037288\n",
            "Iteration 200, loss = 1.27977759\n"
          ]
        },
        {
          "output_type": "stream",
          "name": "stderr",
          "text": [
            "/usr/local/lib/python3.10/dist-packages/sklearn/neural_network/_multilayer_perceptron.py:686: ConvergenceWarning: Stochastic Optimizer: Maximum iterations (200) reached and the optimization hasn't converged yet.\n",
            "  warnings.warn(\n"
          ]
        },
        {
          "output_type": "execute_result",
          "data": {
            "text/plain": [
              "0.3"
            ]
          },
          "metadata": {},
          "execution_count": 6
        }
      ]
    },
    {
      "cell_type": "code",
      "source": [
        "from sklearn.neural_network import MLPClassifier\n",
        "from sklearn.metrics import confusion_matrix, classification_report\n",
        "import seaborn as sns\n",
        "import matplotlib.pyplot as plt\n",
        "import numpy as np\n",
        "\n",
        "# Assuming you've trained your model already\n",
        "model = MLPClassifier(hidden_layer_sizes=(90), random_state=12)\n",
        "model.fit(x_train, y_train)\n",
        "\n",
        "# Making predictions on the test set\n",
        "y_pred = model.predict(x_test)\n",
        "\n",
        "# Calculating confusion matrix\n",
        "cf_matrix = confusion_matrix(y_test, y_pred)\n",
        "\n",
        "# Plotting confusion matrix as a heatmap with fitted text\n",
        "plt.figure(figsize=(8, 6))\n",
        "sns.heatmap(cf_matrix, annot=True, fmt='d', cmap='Blues', annot_kws={\"size\": 12})\n",
        "\n",
        "# Get the axis to modify layout\n",
        "plt.gca().set_ylim(len(np.unique(y_test)), 0)  # Fix for matplotlib 3.1.1 and 3.1.2\n",
        "plt.title('Confusion Matrix')\n",
        "plt.xlabel('Predicted labels')\n",
        "plt.ylabel('True labels')\n",
        "\n",
        "# Save the plot as PNG\n",
        "plt.tight_layout()\n",
        "plt.savefig('confusion_matrix.png', dpi=300)\n",
        "plt.show()\n",
        "\n",
        "# Printing classification report\n",
        "print(\"Classification Report:\")\n",
        "print(classification_report(y_test, y_pred))\n"
      ],
      "metadata": {
        "colab": {
          "base_uri": "https://localhost:8080/",
          "height": 833
        },
        "id": "6D8ZXsNySGQ_",
        "outputId": "5f245c82-88cb-44c8-cda6-3e15223b2c09"
      },
      "execution_count": 7,
      "outputs": [
        {
          "output_type": "stream",
          "name": "stderr",
          "text": [
            "/usr/local/lib/python3.10/dist-packages/sklearn/neural_network/_multilayer_perceptron.py:686: ConvergenceWarning: Stochastic Optimizer: Maximum iterations (200) reached and the optimization hasn't converged yet.\n",
            "  warnings.warn(\n"
          ]
        },
        {
          "output_type": "display_data",
          "data": {
            "text/plain": [
              "<Figure size 800x600 with 2 Axes>"
            ],
            "image/png": "[encoded data removed]"
          },
          "metadata": {}
        },
        {
          "output_type": "stream",
          "name": "stdout",
          "text": [
            "Classification Report:\n",
            "              precision    recall  f1-score   support\n",
            "\n",
            "           0       1.00      1.00      1.00        12\n",
            "           1       1.00      1.00      1.00         9\n",
            "           2       1.00      1.00      1.00         9\n",
            "\n",
            "    accuracy                           1.00        30\n",
            "   macro avg       1.00      1.00      1.00        30\n",
            "weighted avg       1.00      1.00      1.00        30\n",
            "\n"
          ]
        }
      ]
    },
    {
      "cell_type": "code",
      "source": [
        "from sklearn.neural_network import MLPClassifier\n",
        "from sklearn.metrics import confusion_matrix, classification_report\n",
        "import seaborn as sns\n",
        "import matplotlib.pyplot as plt\n",
        "import numpy as np\n",
        "\n",
        "# Assuming you've trained your model already\n",
        "model = MLPClassifier(hidden_layer_sizes=(90), random_state=12)\n",
        "model.fit(x_train, y_train)\n",
        "\n",
        "# Making predictions on the test set\n",
        "y_pred = model.predict(x_test)\n",
        "\n",
        "# Calculating confusion matrix\n",
        "cf_matrix = confusion_matrix(y_test, y_pred)\n",
        "\n",
        "# Calculating percentages for each cell\n",
        "cf_matrix_percent = cf_matrix.astype('float') / cf_matrix.sum(axis=1)[:, np.newaxis] * 100\n",
        "\n",
        "# Plotting confusion matrix as a heatmap with percentages\n",
        "plt.figure(figsize=(8, 6))\n",
        "sns.heatmap(cf_matrix_percent, annot=True, fmt='.2f', cmap='Blues', annot_kws={\"size\": 12})\n",
        "\n",
        "# Get the axis to modify layout\n",
        "plt.gca().set_ylim(len(np.unique(y_test)), 0)  # Fix for matplotlib 3.1.1 and 3.1.2\n",
        "plt.title('Confusion Matrix (%)')\n",
        "plt.xlabel('Predicted labels')\n",
        "plt.ylabel('True labels')\n",
        "\n",
        "# Save the plot as PNG\n",
        "plt.tight_layout()\n",
        "plt.savefig('confusion_matrix_percentage.png', dpi=300)\n",
        "plt.show()\n",
        "\n",
        "# Printing classification report\n",
        "print(\"Classification Report:\")\n",
        "print(classification_report(y_test, y_pred))\n"
      ],
      "metadata": {
        "colab": {
          "base_uri": "https://localhost:8080/",
          "height": 833
        },
        "id": "OOT7MknhSkpk",
        "outputId": "6f0c37ae-5592-4036-e49b-99bdb0b1e366"
      },
      "execution_count": 8,
      "outputs": [
        {
          "output_type": "stream",
          "name": "stderr",
          "text": [
            "/usr/local/lib/python3.10/dist-packages/sklearn/neural_network/_multilayer_perceptron.py:686: ConvergenceWarning: Stochastic Optimizer: Maximum iterations (200) reached and the optimization hasn't converged yet.\n",
            "  warnings.warn(\n"
          ]
        },
        {
          "output_type": "display_data",
          "data": {
            "text/plain": [
              "<Figure size 800x600 with 2 Axes>"
            ],
            "image/png": "[encoded data removed]"
          },
          "metadata": {}
        },
        {
          "output_type": "stream",
          "name": "stdout",
          "text": [
            "Classification Report:\n",
            "              precision    recall  f1-score   support\n",
            "\n",
            "           0       1.00      1.00      1.00        12\n",
            "           1       1.00      1.00      1.00         9\n",
            "           2       1.00      1.00      1.00         9\n",
            "\n",
            "    accuracy                           1.00        30\n",
            "   macro avg       1.00      1.00      1.00        30\n",
            "weighted avg       1.00      1.00      1.00        30\n",
            "\n"
          ]
        }
      ]
    },
    {
      "cell_type": "markdown",
      "metadata": {
        "jp-MarkdownHeadingCollapsed": true,
        "tags": [],
        "id": "uDm9COoKVbFW"
      },
      "source": [
        "## `LogisticRegression()`"
      ]
    },
    {
      "cell_type": "code",
      "source": [
        "from sklearn.linear_model import LogisticRegression\n",
        "from sklearn.metrics import confusion_matrix, classification_report\n",
        "import seaborn as sns\n",
        "import matplotlib.pyplot as plt\n",
        "import numpy as np\n",
        "\n",
        "# Assuming you've trained your model already\n",
        "model = LogisticRegression(max_iter=1000, random_state=12)\n",
        "# model = LogisticRegression(max_iter=10000, random_state=12)\n",
        "model.fit(x_train, y_train)\n",
        "\n",
        "# Making predictions on the test set\n",
        "y_pred = model.predict(x_test)\n",
        "\n",
        "# Calculating confusion matrix\n",
        "cf_matrix = confusion_matrix(y_test, y_pred)\n",
        "\n",
        "# Plotting confusion matrix as a heatmap with fitted text\n",
        "plt.figure(figsize=(8, 6))\n",
        "sns.heatmap(cf_matrix, annot=True, fmt='d', cmap='Blues', annot_kws={\"size\": 12})\n",
        "\n",
        "# Get the axis to modify layout\n",
        "plt.gca().set_ylim(len(np.unique(y_test)), 0)  # Fix for matplotlib 3.1.1 and 3.1.2\n",
        "plt.title('Confusion Matrix')\n",
        "plt.xlabel('Predicted labels')\n",
        "plt.ylabel('True labels')\n",
        "\n",
        "# Save the plot as PNG\n",
        "plt.tight_layout()\n",
        "plt.savefig('confusion_matrix.png', dpi=300)\n",
        "plt.show()\n",
        "\n",
        "# Printing classification report\n",
        "print(\"Classification Report:\")\n",
        "print(classification_report(y_test, y_pred))\n"
      ],
      "metadata": {
        "colab": {
          "base_uri": "https://localhost:8080/",
          "height": 798
        },
        "id": "334qGBizVjOg",
        "outputId": "6a8fb5ab-9eb3-4c47-8702-ee6443891152"
      },
      "execution_count": 9,
      "outputs": [
        {
          "output_type": "display_data",
          "data": {
            "text/plain": [
              "<Figure size 800x600 with 2 Axes>"
            ],
            "image/png": "[encoded data removed]"
          },
          "metadata": {}
        },
        {
          "output_type": "stream",
          "name": "stdout",
          "text": [
            "Classification Report:\n",
            "              precision    recall  f1-score   support\n",
            "\n",
            "           0       1.00      1.00      1.00        12\n",
            "           1       1.00      1.00      1.00         9\n",
            "           2       1.00      1.00      1.00         9\n",
            "\n",
            "    accuracy                           1.00        30\n",
            "   macro avg       1.00      1.00      1.00        30\n",
            "weighted avg       1.00      1.00      1.00        30\n",
            "\n"
          ]
        }
      ]
    },
    {
      "cell_type": "markdown",
      "metadata": {
        "jp-MarkdownHeadingCollapsed": true,
        "tags": [],
        "id": "VsXSr4CaVJ2u"
      },
      "source": [
        "## `RBF()`"
      ]
    },
    {
      "cell_type": "code",
      "source": [
        "from sklearn.svm import SVC\n",
        "from sklearn.metrics import confusion_matrix, classification_report\n",
        "import seaborn as sns\n",
        "import matplotlib.pyplot as plt\n",
        "import numpy as np\n",
        "\n",
        "# Assuming you've trained your model already\n",
        "model = SVC(kernel='rbf', random_state=12)\n",
        "model.fit(x_train, y_train)\n",
        "\n",
        "# Making predictions on the test set\n",
        "y_pred = model.predict(x_test)\n",
        "\n",
        "# Calculating confusion matrix\n",
        "cf_matrix = confusion_matrix(y_test, y_pred)\n",
        "\n",
        "# Plotting confusion matrix as a heatmap with fitted text\n",
        "plt.figure(figsize=(8, 6))\n",
        "sns.heatmap(cf_matrix, annot=True, fmt='d', cmap='Blues', annot_kws={\"size\": 12})\n",
        "\n",
        "# Get the axis to modify layout\n",
        "plt.gca().set_ylim(len(np.unique(y_test)), 0)  # Fix for matplotlib 3.1.1 and 3.1.2\n",
        "plt.title('Confusion Matrix')\n",
        "plt.xlabel('Predicted labels')\n",
        "plt.ylabel('True labels')\n",
        "\n",
        "# Save the plot as PNG\n",
        "plt.tight_layout()\n",
        "plt.savefig('confusion_matrix.png', dpi=300)\n",
        "plt.show()\n",
        "\n",
        "# Printing classification report\n",
        "print(\"Classification Report:\")\n",
        "print(classification_report(y_test, y_pred))\n"
      ],
      "metadata": {
        "colab": {
          "base_uri": "https://localhost:8080/",
          "height": 798
        },
        "id": "Wj3oXhlrVWoF",
        "outputId": "2829f8fd-9e8f-4785-814f-be3df91c79ec"
      },
      "execution_count": 10,
      "outputs": [
        {
          "output_type": "display_data",
          "data": {
            "text/plain": [
              "<Figure size 800x600 with 2 Axes>"
            ],
            "image/png": "[encoded data removed]"
          },
          "metadata": {}
        },
        {
          "output_type": "stream",
          "name": "stdout",
          "text": [
            "Classification Report:\n",
            "              precision    recall  f1-score   support\n",
            "\n",
            "           0       1.00      1.00      1.00        12\n",
            "           1       1.00      1.00      1.00         9\n",
            "           2       1.00      1.00      1.00         9\n",
            "\n",
            "    accuracy                           1.00        30\n",
            "   macro avg       1.00      1.00      1.00        30\n",
            "weighted avg       1.00      1.00      1.00        30\n",
            "\n"
          ]
        }
      ]
    },
    {
      "cell_type": "code",
      "source": [
        "from sklearn.gaussian_process import GaussianProcessClassifier\n",
        "from sklearn.gaussian_process.kernels import RBF\n",
        "from sklearn.metrics import confusion_matrix, classification_report\n",
        "import seaborn as sns\n",
        "import matplotlib.pyplot as plt\n",
        "\n",
        "# Assuming you've trained your model already\n",
        "kernel = 0.1 * RBF(0.1)  # Define the RBF kernel\n",
        "model = GaussianProcessClassifier(kernel=kernel, random_state=12)\n",
        "model.fit(x_train, y_train)\n",
        "\n",
        "# Making predictions on the test set\n",
        "y_pred = model.predict(x_test)\n",
        "\n",
        "# Calculating confusion matrix\n",
        "cf_matrix = confusion_matrix(y_test, y_pred)\n",
        "\n",
        "# Plotting confusion matrix as a heatmap with fitted text\n",
        "plt.figure(figsize=(8, 6))\n",
        "sns.heatmap(cf_matrix, annot=True, fmt='d', cmap='Blues', annot_kws={\"size\": 12})\n",
        "\n",
        "# Get the axis to modify layout\n",
        "plt.gca().set_ylim(len(np.unique(y_test)), 0)  # Fix for matplotlib 3.1.1 and 3.1.2\n",
        "plt.title('Confusion Matrix')\n",
        "plt.xlabel('Predicted labels')\n",
        "plt.ylabel('True labels')\n",
        "\n",
        "# Save the plot as PNG\n",
        "plt.tight_layout()\n",
        "plt.savefig('confusion_matrix.png', dpi=300)\n",
        "plt.show()\n",
        "\n",
        "# Printing classification report\n",
        "print(\"Classification Report:\")\n",
        "print(classification_report(y_test, y_pred))\n"
      ],
      "metadata": {
        "id": "wowmDotWU9x3",
        "colab": {
          "base_uri": "https://localhost:8080/",
          "height": 798
        },
        "outputId": "17ffa4c4-966a-4071-ddde-8bca4135bb22"
      },
      "execution_count": 11,
      "outputs": [
        {
          "output_type": "display_data",
          "data": {
            "text/plain": [
              "<Figure size 800x600 with 2 Axes>"
            ],
            "image/png": "[encoded data removed]"
          },
          "metadata": {}
        },
        {
          "output_type": "stream",
          "name": "stdout",
          "text": [
            "Classification Report:\n",
            "              precision    recall  f1-score   support\n",
            "\n",
            "           0       1.00      1.00      1.00        12\n",
            "           1       1.00      1.00      1.00         9\n",
            "           2       1.00      1.00      1.00         9\n",
            "\n",
            "    accuracy                           1.00        30\n",
            "   macro avg       1.00      1.00      1.00        30\n",
            "weighted avg       1.00      1.00      1.00        30\n",
            "\n"
          ]
        }
      ]
    }
  ]
}