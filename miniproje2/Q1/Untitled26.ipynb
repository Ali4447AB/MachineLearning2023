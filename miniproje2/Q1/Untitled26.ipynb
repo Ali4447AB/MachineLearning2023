{
  "nbformat": 4,
  "nbformat_minor": 0,
  "metadata": {
    "colab": {
      "provenance": []
    },
    "kernelspec": {
      "name": "python3",
      "display_name": "Python 3"
    },
    "language_info": {
      "name": "python"
    }
  },
  "cells": [
    {
      "cell_type": "code",
      "source": [
        "import pandas as pd\n",
        "import numpy as np\n",
        "from sklearn.model_selection import train_test_split\n",
        "from sklearn.linear_model import Perceptron\n",
        "import matplotlib.pyplot as plt\n",
        "from mlxtend.plotting import plot_decision_regions\n"
      ],
      "metadata": {
        "id": "YOrlTh0xiuW4"
      },
      "execution_count": 1,
      "outputs": []
    },
    {
      "cell_type": "code",
      "execution_count": null,
      "metadata": {
        "id": "Hz-zNNF6cSAw"
      },
      "outputs": [],
      "source": [
        "https://drive.google.com/file/d/1r4RiNjXAlTfbNX3xGsOF1szm1VeTc0BG/view?usp=sharing"
      ]
    },
    {
      "cell_type": "code",
      "source": [
        "!pip install --upgrade --no-cache-dir gdown\n",
        "!gdown 1r4RiNjXAlTfbNX3xGsOF1szm1VeTc0BG"
      ],
      "metadata": {
        "colab": {
          "base_uri": "https://localhost:8080/"
        },
        "id": "a8X9U9Mienuo",
        "outputId": "e929c951-2688-49ba-abb3-d055ae1d9bb1"
      },
      "execution_count": 2,
      "outputs": [
        {
          "output_type": "stream",
          "name": "stdout",
          "text": [
            "Requirement already satisfied: gdown in /usr/local/lib/python3.10/dist-packages (4.7.3)\n",
            "Collecting gdown\n",
            "  Downloading gdown-5.0.1-py3-none-any.whl (16 kB)\n",
            "Requirement already satisfied: beautifulsoup4 in /usr/local/lib/python3.10/dist-packages (from gdown) (4.11.2)\n",
            "Requirement already satisfied: filelock in /usr/local/lib/python3.10/dist-packages (from gdown) (3.13.1)\n",
            "Requirement already satisfied: requests[socks] in /usr/local/lib/python3.10/dist-packages (from gdown) (2.31.0)\n",
            "Requirement already satisfied: tqdm in /usr/local/lib/python3.10/dist-packages (from gdown) (4.66.1)\n",
            "Requirement already satisfied: soupsieve>1.2 in /usr/local/lib/python3.10/dist-packages (from beautifulsoup4->gdown) (2.5)\n",
            "Requirement already satisfied: charset-normalizer<4,>=2 in /usr/local/lib/python3.10/dist-packages (from requests[socks]->gdown) (3.3.2)\n",
            "Requirement already satisfied: idna<4,>=2.5 in /usr/local/lib/python3.10/dist-packages (from requests[socks]->gdown) (3.6)\n",
            "Requirement already satisfied: urllib3<3,>=1.21.1 in /usr/local/lib/python3.10/dist-packages (from requests[socks]->gdown) (2.0.7)\n",
            "Requirement already satisfied: certifi>=2017.4.17 in /usr/local/lib/python3.10/dist-packages (from requests[socks]->gdown) (2023.11.17)\n",
            "Requirement already satisfied: PySocks!=1.5.7,>=1.5.6 in /usr/local/lib/python3.10/dist-packages (from requests[socks]->gdown) (1.7.1)\n",
            "Installing collected packages: gdown\n",
            "  Attempting uninstall: gdown\n",
            "    Found existing installation: gdown 4.7.3\n",
            "    Uninstalling gdown-4.7.3:\n",
            "      Successfully uninstalled gdown-4.7.3\n",
            "Successfully installed gdown-5.0.1\n",
            "Downloading...\n",
            "From: https://drive.google.com/uc?id=1r4RiNjXAlTfbNX3xGsOF1szm1VeTc0BG\n",
            "To: /content/Perceptron.csv\n",
            "100% 17.3k/17.3k [00:00<00:00, 49.0MB/s]\n"
          ]
        }
      ]
    },
    {
      "cell_type": "code",
      "source": [
        "# Load the dataset\n",
        "data = pd.read_csv('/content/Perceptron.csv')\n",
        "data"
      ],
      "metadata": {
        "colab": {
          "base_uri": "https://localhost:8080/",
          "height": 423
        },
        "id": "bTZ2jyLTiavw",
        "outputId": "17e854f0-d539-45b2-8cad-8bb95ff1785c"
      },
      "execution_count": 3,
      "outputs": [
        {
          "output_type": "execute_result",
          "data": {
            "text/plain": [
              "           x1        x2    y\n",
              "0    1.028503  0.973218 -1.0\n",
              "1    0.252505  0.955872 -1.0\n",
              "2    1.508085  0.672058 -1.0\n",
              "3    1.940002  1.721370 -1.0\n",
              "4   -1.048819 -0.844999  1.0\n",
              "..        ...       ...  ...\n",
              "395  0.574634  0.782211 -1.0\n",
              "396 -1.413307 -0.673049  1.0\n",
              "397 -0.465114 -1.290830  1.0\n",
              "398  1.522055  0.948007 -1.0\n",
              "399  0.834118  0.926710 -1.0\n",
              "\n",
              "[400 rows x 3 columns]"
            ],
            "text/html": [
              "\n",
              "  <div id=\"df-cbdbbbbb-a23c-436d-8946-caea6ceed4e6\" class=\"colab-df-container\">\n",
              "    <div>\n",
              "<style scoped>\n",
              "    .dataframe tbody tr th:only-of-type {\n",
              "        vertical-align: middle;\n",
              "    }\n",
              "\n",
              "    .dataframe tbody tr th {\n",
              "        vertical-align: top;\n",
              "    }\n",
              "\n",
              "    .dataframe thead th {\n",
              "        text-align: right;\n",
              "    }\n",
              "</style>\n",
              "<table border=\"1\" class=\"dataframe\">\n",
              "  <thead>\n",
              "    <tr style=\"text-align: right;\">\n",
              "      <th></th>\n",
              "      <th>x1</th>\n",
              "      <th>x2</th>\n",
              "      <th>y</th>\n",
              "    </tr>\n",
              "  </thead>\n",
              "  <tbody>\n",
              "    <tr>\n",
              "      <th>0</th>\n",
              "      <td>1.028503</td>\n",
              "      <td>0.973218</td>\n",
              "      <td>-1.0</td>\n",
              "    </tr>\n",
              "    <tr>\n",
              "      <th>1</th>\n",
              "      <td>0.252505</td>\n",
              "      <td>0.955872</td>\n",
              "      <td>-1.0</td>\n",
              "    </tr>\n",
              "    <tr>\n",
              "      <th>2</th>\n",
              "      <td>1.508085</td>\n",
              "      <td>0.672058</td>\n",
              "      <td>-1.0</td>\n",
              "    </tr>\n",
              "    <tr>\n",
              "      <th>3</th>\n",
              "      <td>1.940002</td>\n",
              "      <td>1.721370</td>\n",
              "      <td>-1.0</td>\n",
              "    </tr>\n",
              "    <tr>\n",
              "      <th>4</th>\n",
              "      <td>-1.048819</td>\n",
              "      <td>-0.844999</td>\n",
              "      <td>1.0</td>\n",
              "    </tr>\n",
              "    <tr>\n",
              "      <th>...</th>\n",
              "      <td>...</td>\n",
              "      <td>...</td>\n",
              "      <td>...</td>\n",
              "    </tr>\n",
              "    <tr>\n",
              "      <th>395</th>\n",
              "      <td>0.574634</td>\n",
              "      <td>0.782211</td>\n",
              "      <td>-1.0</td>\n",
              "    </tr>\n",
              "    <tr>\n",
              "      <th>396</th>\n",
              "      <td>-1.413307</td>\n",
              "      <td>-0.673049</td>\n",
              "      <td>1.0</td>\n",
              "    </tr>\n",
              "    <tr>\n",
              "      <th>397</th>\n",
              "      <td>-0.465114</td>\n",
              "      <td>-1.290830</td>\n",
              "      <td>1.0</td>\n",
              "    </tr>\n",
              "    <tr>\n",
              "      <th>398</th>\n",
              "      <td>1.522055</td>\n",
              "      <td>0.948007</td>\n",
              "      <td>-1.0</td>\n",
              "    </tr>\n",
              "    <tr>\n",
              "      <th>399</th>\n",
              "      <td>0.834118</td>\n",
              "      <td>0.926710</td>\n",
              "      <td>-1.0</td>\n",
              "    </tr>\n",
              "  </tbody>\n",
              "</table>\n",
              "<p>400 rows × 3 columns</p>\n",
              "</div>\n",
              "    <div class=\"colab-df-buttons\">\n",
              "\n",
              "  <div class=\"colab-df-container\">\n",
              "    <button class=\"colab-df-convert\" onclick=\"convertToInteractive('df-cbdbbbbb-a23c-436d-8946-caea6ceed4e6')\"\n",
              "            title=\"Convert this dataframe to an interactive table.\"\n",
              "            style=\"display:none;\">\n",
              "\n",
              "  <svg xmlns=\"http://www.w3.org/2000/svg\" height=\"24px\" viewBox=\"0 -960 960 960\">\n",
              "    <path d=\"M120-120v-720h720v720H120Zm60-500h600v-160H180v160Zm220 220h160v-160H400v160Zm0 220h160v-160H400v160ZM180-400h160v-160H180v160Zm440 0h160v-160H620v160ZM180-180h160v-160H180v160Zm440 0h160v-160H620v160Z\"/>\n",
              "  </svg>\n",
              "    </button>\n",
              "\n",
              "  <style>\n",
              "    .colab-df-container {\n",
              "      display:flex;\n",
              "      gap: 12px;\n",
              "    }\n",
              "\n",
              "    .colab-df-convert {\n",
              "      background-color: #E8F0FE;\n",
              "      border: none;\n",
              "      border-radius: 50%;\n",
              "      cursor: pointer;\n",
              "      display: none;\n",
              "      fill: #1967D2;\n",
              "      height: 32px;\n",
              "      padding: 0 0 0 0;\n",
              "      width: 32px;\n",
              "    }\n",
              "\n",
              "    .colab-df-convert:hover {\n",
              "      background-color: #E2EBFA;\n",
              "      box-shadow: 0px 1px 2px rgba(60, 64, 67, 0.3), 0px 1px 3px 1px rgba(60, 64, 67, 0.15);\n",
              "      fill: #174EA6;\n",
              "    }\n",
              "\n",
              "    .colab-df-buttons div {\n",
              "      margin-bottom: 4px;\n",
              "    }\n",
              "\n",
              "    [theme=dark] .colab-df-convert {\n",
              "      background-color: #3B4455;\n",
              "      fill: #D2E3FC;\n",
              "    }\n",
              "\n",
              "    [theme=dark] .colab-df-convert:hover {\n",
              "      background-color: #434B5C;\n",
              "      box-shadow: 0px 1px 3px 1px rgba(0, 0, 0, 0.15);\n",
              "      filter: drop-shadow(0px 1px 2px rgba(0, 0, 0, 0.3));\n",
              "      fill: #FFFFFF;\n",
              "    }\n",
              "  </style>\n",
              "\n",
              "    <script>\n",
              "      const buttonEl =\n",
              "        document.querySelector('#df-cbdbbbbb-a23c-436d-8946-caea6ceed4e6 button.colab-df-convert');\n",
              "      buttonEl.style.display =\n",
              "        google.colab.kernel.accessAllowed ? 'block' : 'none';\n",
              "\n",
              "      async function convertToInteractive(key) {\n",
              "        const element = document.querySelector('#df-cbdbbbbb-a23c-436d-8946-caea6ceed4e6');\n",
              "        const dataTable =\n",
              "          await google.colab.kernel.invokeFunction('convertToInteractive',\n",
              "                                                    [key], {});\n",
              "        if (!dataTable) return;\n",
              "\n",
              "        const docLinkHtml = 'Like what you see? Visit the ' +\n",
              "          '<a target=\"_blank\" href=https://colab.research.google.com/notebooks/data_table.ipynb>data table notebook</a>'\n",
              "          + ' to learn more about interactive tables.';\n",
              "        element.innerHTML = '';\n",
              "        dataTable['output_type'] = 'display_data';\n",
              "        await google.colab.output.renderOutput(dataTable, element);\n",
              "        const docLink = document.createElement('div');\n",
              "        docLink.innerHTML = docLinkHtml;\n",
              "        element.appendChild(docLink);\n",
              "      }\n",
              "    </script>\n",
              "  </div>\n",
              "\n",
              "\n",
              "<div id=\"df-d6061dd6-283c-4fd6-bf75-04c3a50e49f8\">\n",
              "  <button class=\"colab-df-quickchart\" onclick=\"quickchart('df-d6061dd6-283c-4fd6-bf75-04c3a50e49f8')\"\n",
              "            title=\"Suggest charts\"\n",
              "            style=\"display:none;\">\n",
              "\n",
              "<svg xmlns=\"http://www.w3.org/2000/svg\" height=\"24px\"viewBox=\"0 0 24 24\"\n",
              "     width=\"24px\">\n",
              "    <g>\n",
              "        <path d=\"M19 3H5c-1.1 0-2 .9-2 2v14c0 1.1.9 2 2 2h14c1.1 0 2-.9 2-2V5c0-1.1-.9-2-2-2zM9 17H7v-7h2v7zm4 0h-2V7h2v10zm4 0h-2v-4h2v4z\"/>\n",
              "    </g>\n",
              "</svg>\n",
              "  </button>\n",
              "\n",
              "<style>\n",
              "  .colab-df-quickchart {\n",
              "      --bg-color: #E8F0FE;\n",
              "      --fill-color: #1967D2;\n",
              "      --hover-bg-color: #E2EBFA;\n",
              "      --hover-fill-color: #174EA6;\n",
              "      --disabled-fill-color: #AAA;\n",
              "      --disabled-bg-color: #DDD;\n",
              "  }\n",
              "\n",
              "  [theme=dark] .colab-df-quickchart {\n",
              "      --bg-color: #3B4455;\n",
              "      --fill-color: #D2E3FC;\n",
              "      --hover-bg-color: #434B5C;\n",
              "      --hover-fill-color: #FFFFFF;\n",
              "      --disabled-bg-color: #3B4455;\n",
              "      --disabled-fill-color: #666;\n",
              "  }\n",
              "\n",
              "  .colab-df-quickchart {\n",
              "    background-color: var(--bg-color);\n",
              "    border: none;\n",
              "    border-radius: 50%;\n",
              "    cursor: pointer;\n",
              "    display: none;\n",
              "    fill: var(--fill-color);\n",
              "    height: 32px;\n",
              "    padding: 0;\n",
              "    width: 32px;\n",
              "  }\n",
              "\n",
              "  .colab-df-quickchart:hover {\n",
              "    background-color: var(--hover-bg-color);\n",
              "    box-shadow: 0 1px 2px rgba(60, 64, 67, 0.3), 0 1px 3px 1px rgba(60, 64, 67, 0.15);\n",
              "    fill: var(--button-hover-fill-color);\n",
              "  }\n",
              "\n",
              "  .colab-df-quickchart-complete:disabled,\n",
              "  .colab-df-quickchart-complete:disabled:hover {\n",
              "    background-color: var(--disabled-bg-color);\n",
              "    fill: var(--disabled-fill-color);\n",
              "    box-shadow: none;\n",
              "  }\n",
              "\n",
              "  .colab-df-spinner {\n",
              "    border: 2px solid var(--fill-color);\n",
              "    border-color: transparent;\n",
              "    border-bottom-color: var(--fill-color);\n",
              "    animation:\n",
              "      spin 1s steps(1) infinite;\n",
              "  }\n",
              "\n",
              "  @keyframes spin {\n",
              "    0% {\n",
              "      border-color: transparent;\n",
              "      border-bottom-color: var(--fill-color);\n",
              "      border-left-color: var(--fill-color);\n",
              "    }\n",
              "    20% {\n",
              "      border-color: transparent;\n",
              "      border-left-color: var(--fill-color);\n",
              "      border-top-color: var(--fill-color);\n",
              "    }\n",
              "    30% {\n",
              "      border-color: transparent;\n",
              "      border-left-color: var(--fill-color);\n",
              "      border-top-color: var(--fill-color);\n",
              "      border-right-color: var(--fill-color);\n",
              "    }\n",
              "    40% {\n",
              "      border-color: transparent;\n",
              "      border-right-color: var(--fill-color);\n",
              "      border-top-color: var(--fill-color);\n",
              "    }\n",
              "    60% {\n",
              "      border-color: transparent;\n",
              "      border-right-color: var(--fill-color);\n",
              "    }\n",
              "    80% {\n",
              "      border-color: transparent;\n",
              "      border-right-color: var(--fill-color);\n",
              "      border-bottom-color: var(--fill-color);\n",
              "    }\n",
              "    90% {\n",
              "      border-color: transparent;\n",
              "      border-bottom-color: var(--fill-color);\n",
              "    }\n",
              "  }\n",
              "</style>\n",
              "\n",
              "  <script>\n",
              "    async function quickchart(key) {\n",
              "      const quickchartButtonEl =\n",
              "        document.querySelector('#' + key + ' button');\n",
              "      quickchartButtonEl.disabled = true;  // To prevent multiple clicks.\n",
              "      quickchartButtonEl.classList.add('colab-df-spinner');\n",
              "      try {\n",
              "        const charts = await google.colab.kernel.invokeFunction(\n",
              "            'suggestCharts', [key], {});\n",
              "      } catch (error) {\n",
              "        console.error('Error during call to suggestCharts:', error);\n",
              "      }\n",
              "      quickchartButtonEl.classList.remove('colab-df-spinner');\n",
              "      quickchartButtonEl.classList.add('colab-df-quickchart-complete');\n",
              "    }\n",
              "    (() => {\n",
              "      let quickchartButtonEl =\n",
              "        document.querySelector('#df-d6061dd6-283c-4fd6-bf75-04c3a50e49f8 button');\n",
              "      quickchartButtonEl.style.display =\n",
              "        google.colab.kernel.accessAllowed ? 'block' : 'none';\n",
              "    })();\n",
              "  </script>\n",
              "</div>\n",
              "\n",
              "  <div id=\"id_9d12e1a2-3db6-49c0-b738-d2d5ad5d5bf6\">\n",
              "    <style>\n",
              "      .colab-df-generate {\n",
              "        background-color: #E8F0FE;\n",
              "        border: none;\n",
              "        border-radius: 50%;\n",
              "        cursor: pointer;\n",
              "        display: none;\n",
              "        fill: #1967D2;\n",
              "        height: 32px;\n",
              "        padding: 0 0 0 0;\n",
              "        width: 32px;\n",
              "      }\n",
              "\n",
              "      .colab-df-generate:hover {\n",
              "        background-color: #E2EBFA;\n",
              "        box-shadow: 0px 1px 2px rgba(60, 64, 67, 0.3), 0px 1px 3px 1px rgba(60, 64, 67, 0.15);\n",
              "        fill: #174EA6;\n",
              "      }\n",
              "\n",
              "      [theme=dark] .colab-df-generate {\n",
              "        background-color: #3B4455;\n",
              "        fill: #D2E3FC;\n",
              "      }\n",
              "\n",
              "      [theme=dark] .colab-df-generate:hover {\n",
              "        background-color: #434B5C;\n",
              "        box-shadow: 0px 1px 3px 1px rgba(0, 0, 0, 0.15);\n",
              "        filter: drop-shadow(0px 1px 2px rgba(0, 0, 0, 0.3));\n",
              "        fill: #FFFFFF;\n",
              "      }\n",
              "    </style>\n",
              "    <button class=\"colab-df-generate\" onclick=\"generateWithVariable('data')\"\n",
              "            title=\"Generate code using this dataframe.\"\n",
              "            style=\"display:none;\">\n",
              "\n",
              "  <svg xmlns=\"http://www.w3.org/2000/svg\" height=\"24px\"viewBox=\"0 0 24 24\"\n",
              "       width=\"24px\">\n",
              "    <path d=\"M7,19H8.4L18.45,9,17,7.55,7,17.6ZM5,21V16.75L18.45,3.32a2,2,0,0,1,2.83,0l1.4,1.43a1.91,1.91,0,0,1,.58,1.4,1.91,1.91,0,0,1-.58,1.4L9.25,21ZM18.45,9,17,7.55Zm-12,3A5.31,5.31,0,0,0,4.9,8.1,5.31,5.31,0,0,0,1,6.5,5.31,5.31,0,0,0,4.9,4.9,5.31,5.31,0,0,0,6.5,1,5.31,5.31,0,0,0,8.1,4.9,5.31,5.31,0,0,0,12,6.5,5.46,5.46,0,0,0,6.5,12Z\"/>\n",
              "  </svg>\n",
              "    </button>\n",
              "    <script>\n",
              "      (() => {\n",
              "      const buttonEl =\n",
              "        document.querySelector('#id_9d12e1a2-3db6-49c0-b738-d2d5ad5d5bf6 button.colab-df-generate');\n",
              "      buttonEl.style.display =\n",
              "        google.colab.kernel.accessAllowed ? 'block' : 'none';\n",
              "\n",
              "      buttonEl.onclick = () => {\n",
              "        google.colab.notebook.generateWithVariable('data');\n",
              "      }\n",
              "      })();\n",
              "    </script>\n",
              "  </div>\n",
              "\n",
              "    </div>\n",
              "  </div>\n"
            ]
          },
          "metadata": {},
          "execution_count": 3
        }
      ]
    },
    {
      "cell_type": "code",
      "source": [
        "# Separate features and target\n",
        "X = data.iloc[:, :-1].values\n",
        "y = data.iloc[:, -1].values\n",
        "\n",
        "# Transforming y values from {-1, 1} to {0, 1}\n",
        "y = np.where(y == -1, 0, 1)\n",
        "\n",
        "# Splitting the dataset into the Training set and Test set (80/20 split)\n",
        "X_train, X_test, y_train, y_test = train_test_split(X, y, test_size=0.2, random_state=42)\n",
        "y"
      ],
      "metadata": {
        "colab": {
          "base_uri": "https://localhost:8080/"
        },
        "id": "soTNCYdIi8OX",
        "outputId": "1cbaba16-122d-4b73-e140-b379ac5097f7"
      },
      "execution_count": 4,
      "outputs": [
        {
          "output_type": "execute_result",
          "data": {
            "text/plain": [
              "array([0, 0, 0, 0, 1, 0, 1, 1, 0, 1, 1, 1, 1, 1, 0, 1, 0, 1, 0, 0, 1, 1,\n",
              "       0, 1, 1, 0, 1, 1, 1, 1, 0, 0, 1, 0, 0, 1, 1, 1, 0, 0, 1, 0, 1, 0,\n",
              "       1, 0, 1, 0, 0, 1, 0, 1, 1, 1, 0, 1, 0, 0, 0, 1, 1, 0, 1, 0, 0, 0,\n",
              "       0, 0, 1, 0, 1, 1, 1, 1, 1, 0, 0, 1, 1, 1, 1, 0, 0, 0, 0, 1, 1, 0,\n",
              "       0, 0, 0, 0, 0, 1, 0, 1, 1, 0, 0, 0, 0, 1, 0, 1, 1, 0, 1, 0, 0, 1,\n",
              "       0, 1, 0, 0, 1, 0, 0, 1, 1, 0, 1, 0, 0, 0, 0, 1, 1, 1, 1, 1, 1, 0,\n",
              "       0, 0, 0, 1, 1, 0, 0, 0, 0, 0, 1, 0, 1, 1, 1, 0, 1, 1, 0, 0, 0, 1,\n",
              "       0, 1, 1, 0, 0, 0, 1, 0, 0, 0, 1, 0, 0, 1, 0, 0, 1, 0, 0, 0, 0, 0,\n",
              "       1, 1, 1, 0, 1, 1, 0, 1, 1, 0, 1, 0, 0, 1, 0, 0, 1, 1, 1, 1, 0, 0,\n",
              "       0, 1, 0, 1, 1, 0, 1, 1, 0, 1, 0, 0, 1, 0, 1, 1, 0, 0, 0, 1, 0, 1,\n",
              "       0, 0, 0, 0, 0, 1, 0, 1, 1, 0, 0, 1, 0, 0, 0, 1, 1, 0, 1, 0, 1, 1,\n",
              "       1, 1, 0, 0, 0, 1, 1, 1, 0, 1, 1, 1, 1, 0, 1, 0, 0, 0, 1, 1, 1, 1,\n",
              "       1, 1, 1, 1, 0, 0, 1, 0, 0, 1, 0, 0, 1, 0, 0, 1, 0, 0, 1, 1, 1, 0,\n",
              "       1, 0, 0, 0, 1, 1, 1, 1, 0, 0, 1, 1, 0, 0, 1, 0, 1, 0, 0, 1, 1, 1,\n",
              "       0, 1, 0, 0, 0, 0, 0, 0, 1, 0, 1, 1, 0, 1, 0, 1, 1, 1, 1, 0, 1, 1,\n",
              "       1, 1, 0, 1, 1, 1, 0, 0, 1, 1, 0, 0, 0, 0, 1, 1, 1, 0, 1, 1, 1, 1,\n",
              "       1, 1, 0, 1, 1, 1, 0, 1, 1, 1, 0, 1, 1, 0, 1, 1, 1, 1, 0, 1, 0, 0,\n",
              "       0, 0, 1, 1, 1, 1, 0, 0, 1, 0, 0, 0, 1, 0, 0, 1, 0, 1, 0, 0, 0, 0,\n",
              "       1, 1, 0, 0])"
            ]
          },
          "metadata": {},
          "execution_count": 4
        }
      ]
    },
    {
      "cell_type": "markdown",
      "source": [
        "Loss"
      ],
      "metadata": {
        "id": "KnyA2AERjnbV"
      }
    },
    {
      "cell_type": "code",
      "source": [
        "def bce(y, y_hat):\n",
        "    eps = np.finfo(float).eps\n",
        "    y_hat = np.clip(y_hat, eps, 1 - eps)\n",
        "    return np.mean(-(y * np.log(y_hat) + (1 - y) * np.log(1 - y_hat)))\n"
      ],
      "metadata": {
        "id": "gpyF9ktoi-ck"
      },
      "execution_count": 5,
      "outputs": []
    },
    {
      "cell_type": "code",
      "source": [
        "def mse(y, y_hat):\n",
        "    return np.mean((y - y_hat)**2)"
      ],
      "metadata": {
        "id": "BjRLrYcrjuK-"
      },
      "execution_count": 6,
      "outputs": []
    },
    {
      "cell_type": "markdown",
      "source": [
        "Accuracy"
      ],
      "metadata": {
        "id": "4zoFX_gPjxnI"
      }
    },
    {
      "cell_type": "code",
      "source": [
        "def accuracy(y, y_hat):\n",
        "    acc = np.sum(y == y_hat) / len(y)\n",
        "    return acc"
      ],
      "metadata": {
        "id": "jijSd7ynjxBf"
      },
      "execution_count": 7,
      "outputs": []
    },
    {
      "cell_type": "markdown",
      "source": [
        "Neuron"
      ],
      "metadata": {
        "id": "zIcaFs7zkyeH"
      }
    },
    {
      "cell_type": "code",
      "source": [
        "class Neuron:\n",
        "\n",
        "    def __init__(self, in_features, threshold=-18, loss_fn=mse, n_iter=100, eta=0.1, verbose=True):\n",
        "        self.in_features = in_features\n",
        "        # weight & bias\n",
        "        self.w = np.random.randn(in_features, 1)\n",
        "        self.b = np.random.randn()\n",
        "        self.threshold = threshold\n",
        "        self.loss_fn = loss_fn\n",
        "        self.loss_hist = []\n",
        "        self.w_grad, self.b_grad = None, None\n",
        "        self.n_iter = n_iter\n",
        "        self.eta = eta\n",
        "        self.verbose = verbose\n",
        "\n",
        "    def activation_function(self, z):\n",
        "        return np.where(z > self.threshold, 1, 0)\n",
        "\n",
        "    def predict(self, x):\n",
        "        # x: [n_samples, in_features]\n",
        "        y_hat = x @ self.w + self.b\n",
        "        y_hat = self.activation_function(y_hat)\n",
        "        return y_hat\n",
        "\n",
        "    def fit(self, x, y):\n",
        "        for i in range(self.n_iter):\n",
        "            y_hat = self.predict(x)\n",
        "            loss = self.loss_fn(y, y_hat)\n",
        "            self.loss_hist.append(loss)\n",
        "            self.gradient(x, y, y_hat)\n",
        "            self.gradient_descent()\n",
        "            if self.verbose & (i % 1 == 0):\n",
        "                print(f'Iter={i}, Loss={loss:.4}')\n",
        "\n",
        "    def gradient(self, x, y, y_hat):\n",
        "        self.w_grad = (x.T @ (y_hat - y)) / len(y)\n",
        "        self.b_grad = (y_hat - y).mean()\n",
        "\n",
        "    def gradient_descent(self):\n",
        "        self.w -= self.eta * self.w_grad\n",
        "        self.b -= self.eta * self.b_grad\n",
        "\n",
        "    def __repr__(self):\n",
        "        return f'Neuron({self.in_features}, {self.threshold})'\n",
        "\n",
        "    def parameters(self):\n",
        "        return {'w': self.w, 'b': self.b}"
      ],
      "metadata": {
        "id": "KF5Qsdxgk1ig"
      },
      "execution_count": 55,
      "outputs": []
    },
    {
      "cell_type": "code",
      "source": [
        "\n",
        "neuron = Neuron(in_features=2, loss_fn=bce, n_iter=100, eta=0.1, verbose=True)\n",
        "perceptron_model=neuron.fit(X_train, y_train[:, None])\n",
        "neuron.parameters()\n",
        ""
      ],
      "metadata": {
        "colab": {
          "base_uri": "https://localhost:8080/"
        },
        "id": "_KkjW4iTmRen",
        "outputId": "218477f2-332f-4385-cd46-2035f7620d79"
      },
      "execution_count": 56,
      "outputs": [
        {
          "output_type": "stream",
          "name": "stdout",
          "text": [
            "Iter=0, Loss=17.57\n",
            "Iter=1, Loss=17.57\n",
            "Iter=2, Loss=17.57\n",
            "Iter=3, Loss=17.57\n",
            "Iter=4, Loss=17.57\n",
            "Iter=5, Loss=17.57\n",
            "Iter=6, Loss=17.57\n",
            "Iter=7, Loss=17.57\n",
            "Iter=8, Loss=17.57\n",
            "Iter=9, Loss=17.57\n",
            "Iter=10, Loss=17.57\n",
            "Iter=11, Loss=17.57\n",
            "Iter=12, Loss=17.57\n",
            "Iter=13, Loss=17.57\n",
            "Iter=14, Loss=17.57\n",
            "Iter=15, Loss=17.57\n",
            "Iter=16, Loss=17.57\n",
            "Iter=17, Loss=17.57\n",
            "Iter=18, Loss=17.57\n",
            "Iter=19, Loss=17.57\n",
            "Iter=20, Loss=17.57\n",
            "Iter=21, Loss=17.57\n",
            "Iter=22, Loss=17.57\n",
            "Iter=23, Loss=17.57\n",
            "Iter=24, Loss=17.57\n",
            "Iter=25, Loss=17.57\n",
            "Iter=26, Loss=17.57\n",
            "Iter=27, Loss=17.57\n",
            "Iter=28, Loss=17.57\n",
            "Iter=29, Loss=17.57\n",
            "Iter=30, Loss=17.57\n",
            "Iter=31, Loss=17.57\n",
            "Iter=32, Loss=17.57\n",
            "Iter=33, Loss=17.57\n",
            "Iter=34, Loss=17.57\n",
            "Iter=35, Loss=17.57\n",
            "Iter=36, Loss=17.57\n",
            "Iter=37, Loss=17.57\n",
            "Iter=38, Loss=17.57\n",
            "Iter=39, Loss=17.57\n",
            "Iter=40, Loss=17.57\n",
            "Iter=41, Loss=17.57\n",
            "Iter=42, Loss=17.57\n",
            "Iter=43, Loss=17.57\n",
            "Iter=44, Loss=17.57\n",
            "Iter=45, Loss=17.57\n",
            "Iter=46, Loss=17.57\n",
            "Iter=47, Loss=17.57\n",
            "Iter=48, Loss=17.57\n",
            "Iter=49, Loss=17.57\n",
            "Iter=50, Loss=17.57\n",
            "Iter=51, Loss=17.57\n",
            "Iter=52, Loss=17.57\n",
            "Iter=53, Loss=17.57\n",
            "Iter=54, Loss=17.57\n",
            "Iter=55, Loss=17.57\n",
            "Iter=56, Loss=17.57\n",
            "Iter=57, Loss=17.57\n",
            "Iter=58, Loss=17.57\n",
            "Iter=59, Loss=17.57\n",
            "Iter=60, Loss=17.57\n",
            "Iter=61, Loss=17.57\n",
            "Iter=62, Loss=17.57\n",
            "Iter=63, Loss=17.57\n",
            "Iter=64, Loss=17.57\n",
            "Iter=65, Loss=17.57\n",
            "Iter=66, Loss=17.57\n",
            "Iter=67, Loss=17.57\n",
            "Iter=68, Loss=17.57\n",
            "Iter=69, Loss=17.57\n",
            "Iter=70, Loss=17.57\n",
            "Iter=71, Loss=17.57\n",
            "Iter=72, Loss=17.57\n",
            "Iter=73, Loss=17.57\n",
            "Iter=74, Loss=17.57\n",
            "Iter=75, Loss=17.57\n",
            "Iter=76, Loss=17.57\n",
            "Iter=77, Loss=17.57\n",
            "Iter=78, Loss=17.57\n",
            "Iter=79, Loss=17.57\n",
            "Iter=80, Loss=17.57\n",
            "Iter=81, Loss=17.57\n",
            "Iter=82, Loss=17.46\n",
            "Iter=83, Loss=17.46\n",
            "Iter=84, Loss=17.46\n",
            "Iter=85, Loss=17.46\n",
            "Iter=86, Loss=17.46\n",
            "Iter=87, Loss=17.46\n",
            "Iter=88, Loss=17.46\n",
            "Iter=89, Loss=17.23\n",
            "Iter=90, Loss=17.23\n",
            "Iter=91, Loss=17.23\n",
            "Iter=92, Loss=17.23\n",
            "Iter=93, Loss=17.12\n",
            "Iter=94, Loss=17.01\n",
            "Iter=95, Loss=16.9\n",
            "Iter=96, Loss=16.9\n",
            "Iter=97, Loss=16.78\n",
            "Iter=98, Loss=16.22\n",
            "Iter=99, Loss=16.22\n"
          ]
        },
        {
          "output_type": "execute_result",
          "data": {
            "text/plain": [
              "{'w': array([[-4.5459396 ],\n",
              "        [-4.72529269]]),\n",
              " 'b': -5.1853210692644796}"
            ]
          },
          "metadata": {},
          "execution_count": 56
        }
      ]
    },
    {
      "cell_type": "code",
      "source": [
        "plt.plot(neuron.loss_hist)\n",
        ""
      ],
      "metadata": {
        "colab": {
          "base_uri": "https://localhost:8080/",
          "height": 448
        },
        "id": "KyIRNxCKmqM3",
        "outputId": "95e85c2f-a11f-4ce1-c20e-91cb8bdbe227"
      },
      "execution_count": 57,
      "outputs": [
        {
          "output_type": "execute_result",
          "data": {
            "text/plain": [
              "[<matplotlib.lines.Line2D at 0x7d562d5b4910>]"
            ]
          },
          "metadata": {},
          "execution_count": 57
        },
        {
          "output_type": "display_data",
          "data": {
            "text/plain": [
              "<Figure size 640x480 with 1 Axes>"
            ],
            "image/png": "[encoded data removed]"
          },
          "metadata": {}
        }
      ]
    },
    {
      "cell_type": "markdown",
      "source": [
        "Evaluation"
      ],
      "metadata": {
        "id": "ZtWpKjnZmyMz"
      }
    },
    {
      "cell_type": "code",
      "source": [
        "y_hat = neuron.predict(X_test)\n",
        "accuracy(y_test[:, None], y_hat)"
      ],
      "metadata": {
        "colab": {
          "base_uri": "https://localhost:8080/"
        },
        "id": "EjEBlllbmrGO",
        "outputId": "c4e6c4eb-168b-450f-8301-cd4249ab5f2d"
      },
      "execution_count": 58,
      "outputs": [
        {
          "output_type": "execute_result",
          "data": {
            "text/plain": [
              "0.5"
            ]
          },
          "metadata": {},
          "execution_count": 58
        }
      ]
    },
    {
      "cell_type": "code",
      "source": [
        "y_hat[:, 0], y_test"
      ],
      "metadata": {
        "colab": {
          "base_uri": "https://localhost:8080/"
        },
        "id": "dVsitYRgnyeH",
        "outputId": "5ba5aaa7-d076-48f4-b8f8-963ec3678a49"
      },
      "execution_count": 59,
      "outputs": [
        {
          "output_type": "execute_result",
          "data": {
            "text/plain": [
              "(array([1, 1, 1, 1, 1, 0, 1, 1, 1, 1, 1, 1, 1, 1, 0, 1, 1, 1, 1, 1, 1, 1,\n",
              "        1, 1, 1, 1, 1, 1, 1, 1, 1, 1, 1, 0, 1, 1, 1, 1, 0, 1, 1, 1, 1, 1,\n",
              "        1, 1, 1, 1, 1, 1, 1, 1, 1, 1, 1, 1, 1, 1, 1, 1, 1, 1, 1, 1, 1, 1,\n",
              "        1, 1, 1, 1, 1, 1, 1, 1, 1, 1, 1, 1, 1, 1]),\n",
              " array([0, 0, 0, 1, 1, 0, 1, 0, 1, 1, 1, 1, 0, 1, 0, 1, 0, 1, 1, 0, 1, 1,\n",
              "        1, 0, 0, 1, 1, 1, 1, 1, 0, 1, 1, 0, 0, 0, 0, 0, 0, 0, 0, 1, 0, 0,\n",
              "        0, 1, 1, 1, 0, 0, 1, 1, 1, 1, 0, 0, 0, 0, 0, 0, 0, 0, 0, 1, 1, 0,\n",
              "        1, 0, 0, 1, 0, 0, 0, 0, 0, 0, 1, 1, 1, 0]))"
            ]
          },
          "metadata": {},
          "execution_count": 59
        }
      ]
    },
    {
      "cell_type": "code",
      "source": [
        "plot_decision_regions(X_train, y_train, clf=neuron, legend=2)\n",
        "\n",
        "# Scatter plot for test data\n",
        "plt.scatter(X_test[y_test == 0][:, 0], X_test[y_test == 0][:, 1], c='blue', marker='o', label='Class 0 (Test)')\n",
        "plt.scatter(X_test[y_test == 1][:, 0], X_test[y_test == 1][:, 1], c='red', marker='o', label='Class 1 (Test)')\n",
        "\n",
        "plt.xlabel('Feature 1')\n",
        "plt.ylabel('Feature 2')\n",
        "plt.title('Perceptron Classifier with Decision Boundary')\n",
        "plt.legend()\n",
        "plt.show()\n"
      ],
      "metadata": {
        "colab": {
          "base_uri": "https://localhost:8080/",
          "height": 472
        },
        "id": "RZAT7u0JoXdF",
        "outputId": "e27b8df4-7bc9-492d-bda1-02df6f2c1da6"
      },
      "execution_count": 60,
      "outputs": [
        {
          "output_type": "display_data",
          "data": {
            "text/plain": [
              "<Figure size 640x480 with 1 Axes>"
            ],
            "image/png": "[encoded data removed]"
          },
          "metadata": {}
        }
      ]
    }
  ]
}