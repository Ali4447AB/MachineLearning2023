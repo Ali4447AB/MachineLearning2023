{
  "nbformat": 4,
  "nbformat_minor": 0,
  "metadata": {
    "colab": {
      "provenance": []
    },
    "kernelspec": {
      "name": "python3",
      "display_name": "Python 3"
    },
    "language_info": {
      "name": "python"
    }
  },
  "cells": [
    {
      "cell_type": "markdown",
      "source": [
        "Question 2"
      ],
      "metadata": {
        "id": "3K-tRDxfYYLA"
      }
    },
    {
      "cell_type": "markdown",
      "source": [
        "import library"
      ],
      "metadata": {
        "id": "dZXqxTIZYZUw"
      }
    },
    {
      "cell_type": "code",
      "source": [
        "#import library\n",
        "import numpy as np\n",
        "import itertools"
      ],
      "metadata": {
        "id": "wFkJvOW6Yb5P"
      },
      "execution_count": 1,
      "outputs": []
    },
    {
      "cell_type": "code",
      "source": [
        "#define muculloch pitts\n",
        "class McCulloch_Pitts_neuron():\n",
        "\n",
        "  def __init__(self , weights , threshold):\n",
        "    self.weights = weights    #define weights\n",
        "    self.threshold = threshold    #define threshold\n",
        "\n",
        "  def model(self , x):\n",
        "    #define model with threshold\n",
        "    if self.weights @ x >= self.threshold:\n",
        "        return 1\n",
        "    else:\n",
        "        return 0"
      ],
      "metadata": {
        "id": "M_T-d9DVYey4"
      },
      "execution_count": 2,
      "outputs": []
    },
    {
      "cell_type": "code",
      "source": [
        "def Zarb(state):\n",
        "  # تعریف گیت ها\n",
        "  Not = McCulloch_Pitts_neuron([-3] , -1.5)\n",
        "  Nor = McCulloch_Pitts_neuron([-3, -3] , -1.5)\n",
        "  Nand = McCulloch_Pitts_neuron([-1, -1] , -1.5)\n",
        "  Nand_1 = McCulloch_Pitts_neuron([-1, -1 , 0, 0] , -1.5)\n",
        "  Nand_2 = McCulloch_Pitts_neuron([0, 0 , -1, -1] , -1.5)\n",
        "  Nand_3 = McCulloch_Pitts_neuron([-1, 0 , -1, 0] , -1.5)\n",
        "  Nand_4 = McCulloch_Pitts_neuron([0, -1 , 0, -1] , -1.5)\n",
        "  Nand_5 = McCulloch_Pitts_neuron([-1, 0 , 0, -1] , -1.5)\n",
        "  Nand_6 = McCulloch_Pitts_neuron([0, -1 , -1, 0] , -1.5)\n",
        "\n",
        "  # y1\n",
        "  # تعریف خروجی های میانی\n",
        "  z1 = Nand_1.model(np.array([state[0], state[1], state[2], state[3]]))\n",
        "  z2 = Not.model(np.array([z1]))\n",
        "  z3 = Nand_2.model(np.array([state[0], state[1], state[2], state[3]]))\n",
        "  z4 = Not.model(np.array([z3]))\n",
        "  z5 = Nand.model(np.array([z2, z4]))\n",
        "  z6 = Not.model(np.array([z5]))\n",
        "\n",
        "  y1 = z6\n",
        "\n",
        "\n",
        "  # y2\n",
        "  # تعریف خروجی های میانی\n",
        "  z7 = Nand_3.model(np.array([state[0], state[1], state[2], state[3]]))\n",
        "  z8 = Not.model(np.array([z7]))\n",
        "  z9 = Nand_4.model(np.array([state[0], state[1], state[2], state[3]]))\n",
        "  z10 = Nand.model(np.array([z8, z9]))\n",
        "  z11 = Not.model(np.array([z10]))\n",
        "\n",
        "  y2 = z11\n",
        "\n",
        "\n",
        "  # y3\n",
        "  # تعریف خروجی های میانی\n",
        "  z12 = Nand_5.model(np.array([state[0], state[1], state[2], state[3]]))\n",
        "  z13 = Not.model(np.array([z12]))\n",
        "  z14 = Nand_6.model(np.array([state[0], state[1], state[2], state[3]]))\n",
        "  z15 = Not.model(np.array([z14]))\n",
        "  z16 = Nand.model(np.array([z13, z14]))\n",
        "  z17 = Nand.model(np.array([z12, z15]))\n",
        "  z18 = Not.model(np.array([z16]))\n",
        "  z19 = Not.model(np.array([z17]))\n",
        "  z20 = Nor.model(np.array([z18, z19]))\n",
        "  z21 = Not.model(np.array([z20]))\n",
        "\n",
        "  y3 = z21\n",
        "\n",
        "\n",
        "  # y4\n",
        "  # تعریف خروجی های میانی\n",
        "  z22 = Nand_4.model(np.array([state[0], state[1], state[2], state[3]]))\n",
        "  z23 = Not.model(np.array([z22]))\n",
        "\n",
        "  y4 = z23\n",
        "\n",
        "  return list([y1,y2,y3,y4])"
      ],
      "metadata": {
        "id": "RGJdov6FY_-J"
      },
      "execution_count": 3,
      "outputs": []
    },
    {
      "cell_type": "code",
      "source": [
        "state_b = [1, 0]\n",
        "state = list(itertools.product(state_b, state_b, state_b, state_b))\n",
        "print('state: ', state)"
      ],
      "metadata": {
        "colab": {
          "base_uri": "https://localhost:8080/"
        },
        "id": "DJOy3IcRcVpJ",
        "outputId": "3b627ce5-1e1d-4110-900b-df80d1193250"
      },
      "execution_count": 4,
      "outputs": [
        {
          "output_type": "stream",
          "name": "stdout",
          "text": [
            "state:  [(1, 1, 1, 1), (1, 1, 1, 0), (1, 1, 0, 1), (1, 1, 0, 0), (1, 0, 1, 1), (1, 0, 1, 0), (1, 0, 0, 1), (1, 0, 0, 0), (0, 1, 1, 1), (0, 1, 1, 0), (0, 1, 0, 1), (0, 1, 0, 0), (0, 0, 1, 1), (0, 0, 1, 0), (0, 0, 0, 1), (0, 0, 0, 0)]\n"
          ]
        }
      ]
    },
    {
      "cell_type": "code",
      "source": [
        "X = list(itertools.product(state))\n",
        "for i in X:\n",
        "    kh = Zarb(i[0])\n",
        "    print(\"Zarbe adad aval do biti \", str(i[0][0])+str(\" \")+str(i[0][1]), \" dar adad dovom do biti \", str(i[0][2])+str(\" \")+str(i[0][3]),\n",
        "          \" barabar ast ba adad chahar biti \",str(kh[0]) + str(\" \")+str(kh[1])+ str(\" \")+str(kh[2])+ str(\" \")+str(kh[3]), \" ast \")"
      ],
      "metadata": {
        "colab": {
          "base_uri": "https://localhost:8080/"
        },
        "id": "kTkbePtBh8CM",
        "outputId": "3fd9df38-f674-4560-ae68-0699b04fdd56"
      },
      "execution_count": 22,
      "outputs": [
        {
          "output_type": "stream",
          "name": "stdout",
          "text": [
            "Zarbe adad aval do biti  1 1  dar adad dovom do biti  1 1  barabar ast ba adad chahar biti  1 0 0 1  ast \n",
            "Zarbe adad aval do biti  1 1  dar adad dovom do biti  1 0  barabar ast ba adad chahar biti  0 1 1 0  ast \n",
            "Zarbe adad aval do biti  1 1  dar adad dovom do biti  0 1  barabar ast ba adad chahar biti  0 0 1 1  ast \n",
            "Zarbe adad aval do biti  1 1  dar adad dovom do biti  0 0  barabar ast ba adad chahar biti  0 0 0 0  ast \n",
            "Zarbe adad aval do biti  1 0  dar adad dovom do biti  1 1  barabar ast ba adad chahar biti  0 1 1 0  ast \n",
            "Zarbe adad aval do biti  1 0  dar adad dovom do biti  1 0  barabar ast ba adad chahar biti  0 1 0 0  ast \n",
            "Zarbe adad aval do biti  1 0  dar adad dovom do biti  0 1  barabar ast ba adad chahar biti  0 0 1 0  ast \n",
            "Zarbe adad aval do biti  1 0  dar adad dovom do biti  0 0  barabar ast ba adad chahar biti  0 0 0 0  ast \n",
            "Zarbe adad aval do biti  0 1  dar adad dovom do biti  1 1  barabar ast ba adad chahar biti  0 0 1 1  ast \n",
            "Zarbe adad aval do biti  0 1  dar adad dovom do biti  1 0  barabar ast ba adad chahar biti  0 0 1 0  ast \n",
            "Zarbe adad aval do biti  0 1  dar adad dovom do biti  0 1  barabar ast ba adad chahar biti  0 0 0 1  ast \n",
            "Zarbe adad aval do biti  0 1  dar adad dovom do biti  0 0  barabar ast ba adad chahar biti  0 0 0 0  ast \n",
            "Zarbe adad aval do biti  0 0  dar adad dovom do biti  1 1  barabar ast ba adad chahar biti  0 0 0 0  ast \n",
            "Zarbe adad aval do biti  0 0  dar adad dovom do biti  1 0  barabar ast ba adad chahar biti  0 0 0 0  ast \n",
            "Zarbe adad aval do biti  0 0  dar adad dovom do biti  0 1  barabar ast ba adad chahar biti  0 0 0 0  ast \n",
            "Zarbe adad aval do biti  0 0  dar adad dovom do biti  0 0  barabar ast ba adad chahar biti  0 0 0 0  ast \n"
          ]
        }
      ]
    }
  ]
}